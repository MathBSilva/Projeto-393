{
  "nbformat": 4,
  "nbformat_minor": 0,
  "metadata": {
    "colab": {
      "provenance": [],
      "collapsed_sections": [],
      "authorship_tag": "ABX9TyNLlOeTmnf899wX22UxsWOQ",
      "include_colab_link": true
    },
    "kernelspec": {
      "name": "python3",
      "display_name": "Python 3"
    },
    "language_info": {
      "name": "python"
    }
  },
  "cells": [
    {
      "cell_type": "markdown",
      "metadata": {
        "id": "view-in-github",
        "colab_type": "text"
      },
      "source": [
        "<a href=\"https://colab.research.google.com/github/MathBSilva/Projeto-393/blob/main/Projeto01.ipynb\" target=\"_parent\"><img src=\"https://colab.research.google.com/assets/colab-badge.svg\" alt=\"Open In Colab\"/></a>"
      ]
    },
    {
      "cell_type": "code",
      "execution_count": 15,
      "metadata": {
        "id": "HscGFdBgI4oO",
        "colab": {
          "base_uri": "https://localhost:8080/"
        },
        "outputId": "c3d5d12e-2ce8-4ac1-b7e0-a6d671705d32"
      },
      "outputs": [
        {
          "output_type": "stream",
          "name": "stdout",
          "text": [
            "['apple', 'apple', 'apple', 'apple', 'apple', 'apple', 'apple', 'apple', 'apple', 'apple', 'apple', 'apple', 'apple', 'apple', 'apple', 'apple', 'apple', 'apple', 'apple', 'apple', 'apple', 'apple', 'apple', 'apple', 'apple', 'apple', 'apple', 'apple', 'apple', 'apple', 'apple', 'apple', 'apple', 'apple', 'apple', 'apple', 'apple', 'apple', 'apple', 'apple', 'apple', 'apple', 'apple', 'apple', 'apple', 'apple', 'apple', 'apple', 'apple', 'apple', 'apple', 'apple', 'apple', 'apple', 'beetle', 'beetle', 'beetle', 'beetle', 'beetle', 'beetle', 'beetle', 'beetle', 'beetle', 'beetle', 'beetle', 'beetle', 'beetle', 'beetle', 'beetle', 'beetle', 'beetle', 'beetle', 'beetle', 'beetle', 'beetle', 'beetle', 'beetle', 'beetle', 'beetle', 'beetle', 'beetle', 'beetle', 'beetle', 'beetle', 'beetle', 'beetle', 'beetle', 'beetle', 'beetle', 'beetle', 'beetle', 'beetle', 'beetle', 'beetle', 'beetle', 'beetle', 'beetle', 'beetle', 'beetle', 'beetle', 'beetle', 'beetle', 'beetle', 'beetle', 'beetle', 'beetle', 'beetle', 'beetle', 'bone', 'bone', 'bone', 'bone', 'bone', 'bone', 'bone', 'bone', 'bone', 'bone', 'bone', 'bone', 'bone', 'bone', 'bone', 'bone', 'bone', 'bone', 'bone', 'bone', 'bone', 'bone', 'bone', 'bone', 'bone', 'bone', 'bone', 'bone', 'bone', 'bone', 'bone', 'bone', 'bone', 'bone', 'bone', 'bone', 'bone', 'bone', 'bone', 'bone', 'bone', 'bone', 'bone', 'bone', 'bone', 'bone', 'bone', 'bone', 'bone', 'bone', 'bone', 'bone', 'bone', 'bone', 'bat', 'bat', 'bat', 'bat', 'bat', 'bat', 'bat', 'bat', 'bat', 'bat', 'bat', 'bat', 'bat', 'bat', 'bat', 'bat', 'bat', 'bat', 'bat', 'bat', 'bat', 'bat', 'bat', 'bat', 'bat', 'bat', 'bat', 'bat', 'bat', 'bat', 'bat', 'bat', 'bat', 'bat', 'bat', 'bat', 'bat', 'bat', 'bat', 'bat', 'bat', 'bat', 'bat', 'bat', 'bat', 'bat', 'bat', 'bat', 'bat', 'bat', 'bat', 'bat', 'bat', 'bat']\n"
          ]
        }
      ],
      "source": [
        "import os\n",
        "\n",
        "import numpy as np\n",
        "from skimage import util, transform, filters, color, measure, morphology\n",
        "from sklearn import model_selection, neighbors, metrics, preprocessing\n",
        "\n",
        "import matplotlib.pyplot as plt\n",
        "import seaborn as sns\n",
        "import pandas as pd\n",
        "\n",
        "%matplotlib notebook\n",
        "\n",
        "# 3 classes - Conjunto completo\n",
        "ds_path = '/content/drive/MyDrive/mpeg7_4classes_aug_x8_work/Test'\n",
        "\n",
        "# Lista das pastas na pasta 'ds_path' (classes)\n",
        "classes_list = os.listdir(ds_path)\n",
        "\n",
        "# Lista com as imagens no dataset\n",
        "image_list = []\n",
        "# Lista com os rótulos das imagens\n",
        "label_list = []\n",
        "\n",
        "# Lista com os nomes das imagens\n",
        "filename_list_ = []\n",
        "\n",
        "# Percorre as classes do dataset\n",
        "for classe in classes_list:\n",
        "    \n",
        "    # Listagem de todas as imagens na pasta daquela classe\n",
        "    filename_list = os.listdir(os.path.join(ds_path, classe))\n",
        "    \n",
        "    # Percorre os arquivos na pasta atual\n",
        "    for filename in filename_list:\n",
        "        # Carrega a imagem\n",
        "        img_temp = plt.imread(os.path.join(ds_path, classe, filename))\n",
        "        \n",
        "        # Redimensiona a imagem para 1/4 do tamanho original\n",
        "        img_temp = transform.resize(img_temp, (img_temp.shape[0]//4, img_temp.shape[1]//4), anti_aliasing=True)\n",
        "        \n",
        "        # Adiciona a imagem a lista de imagens\n",
        "        image_list.append(img_temp)\n",
        "        \n",
        "        # Adiciona o rótulo da imagem à lista de rótulos\n",
        "        label_list.append(classe)\n",
        "        \n",
        "        # Adiciona o nome da imagem à uma lista (para fins de visualização)\n",
        "        filename_list_.append(filename)\n",
        "# Lista com os rótulos das imagens        \n",
        "print(label_list)"
      ]
    }
  ]
}