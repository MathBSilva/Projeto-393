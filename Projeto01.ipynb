{
  "nbformat": 4,
  "nbformat_minor": 0,
  "metadata": {
    "colab": {
      "provenance": [],
      "collapsed_sections": [],
      "authorship_tag": "ABX9TyN0cN9oab7icX6ndjxRlKTl",
      "include_colab_link": true
    },
    "kernelspec": {
      "name": "python3",
      "display_name": "Python 3"
    },
    "language_info": {
      "name": "python"
    }
  },
  "cells": [
    {
      "cell_type": "markdown",
      "metadata": {
        "id": "view-in-github",
        "colab_type": "text"
      },
      "source": [
        "<a href=\"https://colab.research.google.com/github/MathBSilva/Projeto-393/blob/main/Projeto01.ipynb\" target=\"_parent\"><img src=\"https://colab.research.google.com/assets/colab-badge.svg\" alt=\"Open In Colab\"/></a>"
      ]
    },
    {
      "cell_type": "code",
      "execution_count": 1,
      "metadata": {
        "id": "HscGFdBgI4oO",
        "colab": {
          "base_uri": "https://localhost:8080/",
          "height": 235
        },
        "outputId": "f989192b-d7e9-4055-acdc-7ec845a131b3"
      },
      "outputs": [
        {
          "output_type": "error",
          "ename": "FileNotFoundError",
          "evalue": "ignored",
          "traceback": [
            "\u001b[0;31m---------------------------------------------------------------------------\u001b[0m",
            "\u001b[0;31mFileNotFoundError\u001b[0m                         Traceback (most recent call last)",
            "\u001b[0;32m<ipython-input-1-37eac5ccce86>\u001b[0m in \u001b[0;36m<module>\u001b[0;34m\u001b[0m\n\u001b[1;32m     15\u001b[0m \u001b[0;34m\u001b[0m\u001b[0m\n\u001b[1;32m     16\u001b[0m \u001b[0;31m# Lista das pastas na pasta 'ds_path' (classes)\u001b[0m\u001b[0;34m\u001b[0m\u001b[0;34m\u001b[0m\u001b[0;34m\u001b[0m\u001b[0m\n\u001b[0;32m---> 17\u001b[0;31m \u001b[0mclasses_list\u001b[0m \u001b[0;34m=\u001b[0m \u001b[0mos\u001b[0m\u001b[0;34m.\u001b[0m\u001b[0mlistdir\u001b[0m\u001b[0;34m(\u001b[0m\u001b[0mds_path\u001b[0m\u001b[0;34m)\u001b[0m\u001b[0;34m\u001b[0m\u001b[0;34m\u001b[0m\u001b[0m\n\u001b[0m\u001b[1;32m     18\u001b[0m \u001b[0;34m\u001b[0m\u001b[0m\n\u001b[1;32m     19\u001b[0m \u001b[0;31m# Lista com as imagens no dataset\u001b[0m\u001b[0;34m\u001b[0m\u001b[0;34m\u001b[0m\u001b[0;34m\u001b[0m\u001b[0m\n",
            "\u001b[0;31mFileNotFoundError\u001b[0m: [Errno 2] No such file or directory: 'mpeg7_4classes_aug_x8_work/Test'"
          ]
        }
      ],
      "source": [
        "import os\n",
        "\n",
        "import numpy as np\n",
        "from skimage import util, transform, filters, color, measure, morphology\n",
        "from sklearn import model_selection, neighbors, metrics, preprocessing\n",
        "\n",
        "import matplotlib.pyplot as plt\n",
        "import seaborn as sns\n",
        "import pandas as pd\n",
        "\n",
        "%matplotlib notebook\n",
        "\n",
        "# 3 classes - Conjunto completo\n",
        "ds_path = 'mpeg7_4classes_aug_x8_work/Test'\n",
        "\n",
        "# Lista das pastas na pasta 'ds_path' (classes)\n",
        "classes_list = os.listdir(ds_path)\n",
        "\n",
        "# Lista com as imagens no dataset\n",
        "image_list = []\n",
        "# Lista com os rótulos das imagens\n",
        "label_list = []\n",
        "\n",
        "# Lista com os nomes das imagens\n",
        "filename_list_ = []\n",
        "\n",
        "# Percorre as classes do dataset\n",
        "for classe in classes_list:\n",
        "    \n",
        "    # Listagem de todas as imagens na pasta daquela classe\n",
        "    filename_list = os.listdir(os.path.join(ds_path, classe))\n",
        "    \n",
        "    # Percorre os arquivos na pasta atual\n",
        "    for filename in filename_list:\n",
        "        # Carrega a imagem\n",
        "        img_temp = plt.imread(os.path.join(ds_path, classe, filename))\n",
        "        \n",
        "        # Redimensiona a imagem para 1/4 do tamanho original\n",
        "        img_temp = transform.resize(img_temp, (img_temp.shape[0]//4, img_temp.shape[1]//4), anti_aliasing=True)\n",
        "        \n",
        "        # Adiciona a imagem a lista de imagens\n",
        "        image_list.append(img_temp)\n",
        "        \n",
        "        # Adiciona o rótulo da imagem à lista de rótulos\n",
        "        label_list.append(classe)\n",
        "        \n",
        "        # Adiciona o nome da imagem à uma lista (para fins de visualização)\n",
        "        filename_list_.append(filename)\n",
        "# Lista com os rótulos das imagens        \n",
        "print(label_list)"
      ]
    }
  ]
}
